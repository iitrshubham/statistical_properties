{
 "cells": [
  {
   "cell_type": "markdown",
   "id": "7363225f",
   "metadata": {},
   "source": [
    "# Statistical Properties"
   ]
  },
  {
   "cell_type": "markdown",
   "id": "20bec443",
   "metadata": {},
   "source": [
    "## Presented by Shubham Saurabh\n",
    "### Research Scholar, IIT Roorkee"
   ]
  },
  {
   "cell_type": "markdown",
   "id": "9d2c71f5",
   "metadata": {},
   "source": [
    "This tutorial will demonstrate different statistical properties like mean, standard deviation."
   ]
  },
  {
   "cell_type": "markdown",
   "id": "590d643a",
   "metadata": {},
   "source": [
    "### Mean($\\mu$)\n",
    "For a data set, the **arithmetic mean**, also known as **average** or **arithmetic average**, is a central value of a finite set of numbers. It is calculated by the sum of the values divided by the number of values."
   ]
  },
  {
   "cell_type": "markdown",
   "id": "4f20d461",
   "metadata": {},
   "source": [
    "### Standard Deviation($\\sigma$)"
   ]
  },
  {
   "cell_type": "markdown",
   "id": "2813ae01",
   "metadata": {},
   "source": [
    "**Standard deviation** is the measure of dispersion of a set of data from its mean. \n",
    "* It measures the absolute variability of a distribution; \n",
    "* Higher the dispersion or variability, greater will be the magnitude of the deviation of the value from their mean."
   ]
  },
  {
   "cell_type": "markdown",
   "id": "98104e51",
   "metadata": {},
   "source": [
    "### Example\n",
    "\n",
    "![onesigma](sd.png)"
   ]
  },
  {
   "cell_type": "markdown",
   "id": "e70a3c32",
   "metadata": {},
   "source": [
    "### 1 $\\sigma$, 2 $\\sigma$ and 3 $\\sigma$"
   ]
  },
  {
   "cell_type": "markdown",
   "id": "b47dddd9",
   "metadata": {},
   "source": [
    "$\\\\ $\n",
    "![onesigma](random.png)"
   ]
  },
  {
   "cell_type": "markdown",
   "id": "067bc598",
   "metadata": {},
   "source": [
    "$$1 \\sigma=\\mu \\pm SD$$\n",
    "$$2 \\sigma=\\mu \\pm 2 \\times SD$$\n",
    "$$3 \\sigma=\\mu \\pm 3 \\times SD$$\n",
    "where  \n",
    "$SD:$ standard deviation of data  \n",
    "$\\mu:$ mean of data"
   ]
  },
  {
   "cell_type": "markdown",
   "id": "6acbdd30",
   "metadata": {},
   "source": [
    "### Importing Essential Libraries"
   ]
  },
  {
   "cell_type": "code",
   "execution_count": 1,
   "id": "f6b2c56e",
   "metadata": {},
   "outputs": [],
   "source": [
    "import numpy as np\n",
    "import matplotlib.pyplot as plt\n",
    "import scipy.stats as stats"
   ]
  },
  {
   "cell_type": "markdown",
   "id": "cfb8c0f0",
   "metadata": {},
   "source": [
    "### Generating discrete data set"
   ]
  },
  {
   "cell_type": "code",
   "execution_count": 2,
   "id": "23b72b9f",
   "metadata": {},
   "outputs": [],
   "source": [
    "x = np.array([0, 1, 2, 5, 6, 7, 8, 8, 8, 7, 6, 5, 2, 1, 0])"
   ]
  },
  {
   "cell_type": "markdown",
   "id": "e3c209f2",
   "metadata": {},
   "source": [
    "### Mean"
   ]
  },
  {
   "cell_type": "code",
   "execution_count": 3,
   "id": "858739fe",
   "metadata": {
    "scrolled": true
   },
   "outputs": [
    {
     "data": {
      "text/plain": [
       "4.4"
      ]
     },
     "execution_count": 3,
     "metadata": {},
     "output_type": "execute_result"
    }
   ],
   "source": [
    "x.mean()"
   ]
  },
  {
   "cell_type": "markdown",
   "id": "6620b3e7",
   "metadata": {},
   "source": [
    "### Standard deviation"
   ]
  },
  {
   "cell_type": "code",
   "execution_count": 4,
   "id": "827b6253",
   "metadata": {},
   "outputs": [
    {
     "data": {
      "text/plain": [
       "2.961981318869742"
      ]
     },
     "execution_count": 4,
     "metadata": {},
     "output_type": "execute_result"
    }
   ],
   "source": [
    "x.std()"
   ]
  },
  {
   "cell_type": "markdown",
   "id": "4f2e0311",
   "metadata": {},
   "source": [
    "### $1 \\sigma=\\mu \\pm \\sigma$"
   ]
  },
  {
   "cell_type": "code",
   "execution_count": 5,
   "id": "36aad29f",
   "metadata": {},
   "outputs": [
    {
     "data": {
      "text/plain": [
       "[1.4380186811302584, 7.361981318869742]"
      ]
     },
     "execution_count": 5,
     "metadata": {},
     "output_type": "execute_result"
    }
   ],
   "source": [
    "[x.mean() - x.std(), x.mean() + x.std()]"
   ]
  },
  {
   "cell_type": "markdown",
   "id": "90e986bc",
   "metadata": {},
   "source": [
    "### $2 \\sigma=\\mu \\pm 2 \\times \\sigma$"
   ]
  },
  {
   "cell_type": "code",
   "execution_count": 6,
   "id": "50f99e00",
   "metadata": {},
   "outputs": [
    {
     "data": {
      "text/plain": [
       "[-1.5239626377394835, 10.323962637739484]"
      ]
     },
     "execution_count": 6,
     "metadata": {},
     "output_type": "execute_result"
    }
   ],
   "source": [
    "[x.mean() - 2 * x.std(), x.mean() + 2 * x.std()]"
   ]
  },
  {
   "cell_type": "markdown",
   "id": "ea2c5b90",
   "metadata": {},
   "source": [
    "### $3 \\sigma=\\mu \\pm 3 \\times \\sigma$"
   ]
  },
  {
   "cell_type": "code",
   "execution_count": 7,
   "id": "61e55569",
   "metadata": {},
   "outputs": [
    {
     "data": {
      "text/plain": [
       "[-4.4859439566092245, 13.285943956609225]"
      ]
     },
     "execution_count": 7,
     "metadata": {},
     "output_type": "execute_result"
    }
   ],
   "source": [
    "[x.mean() - 3 * x.std(), x.mean() + 3 * x.std()]"
   ]
  },
  {
   "cell_type": "markdown",
   "id": "649a5e96",
   "metadata": {},
   "source": [
    "*****"
   ]
  },
  {
   "cell_type": "markdown",
   "id": "11e71fb0",
   "metadata": {},
   "source": [
    "## Normal distribution Curve/ Gaussian distribution curve"
   ]
  },
  {
   "cell_type": "markdown",
   "id": "e72faeab",
   "metadata": {},
   "source": [
    "Properties of Normal distribution curve:\n",
    "* mean = median = mode\n",
    "* symmetry about the center\n",
    "* 50% of values less than the mean and 50% greater than the mean"
   ]
  },
  {
   "cell_type": "markdown",
   "id": "b3536ef2",
   "metadata": {},
   "source": [
    "$\\\\ $\n",
    "![onesigma](meanmedian.jpg)"
   ]
  },
  {
   "cell_type": "markdown",
   "id": "48204504",
   "metadata": {},
   "source": [
    "### 1 $\\sigma$, 2 $\\sigma$ and 3 $\\sigma$"
   ]
  },
  {
   "cell_type": "markdown",
   "id": "2524fcf6",
   "metadata": {},
   "source": [
    "![onesigma](onetwothree.jpg)"
   ]
  },
  {
   "cell_type": "markdown",
   "id": "34fafcaf",
   "metadata": {},
   "source": [
    "## Validation of 1 $\\sigma$, 2 $\\sigma$ and 3 $\\sigma$ for a normal distribution curve "
   ]
  },
  {
   "cell_type": "markdown",
   "id": "2ae89d28",
   "metadata": {},
   "source": [
    "\\begin{equation}\n",
    "f(x)=\\frac{1}{\\sigma \\sqrt{2 \\pi}} e^{-\\frac{1}{2}\\left(\\frac{x-\\mu}{\\sigma}\\right)^{2}}\n",
    "\\end{equation}"
   ]
  },
  {
   "cell_type": "markdown",
   "id": "fec4929d",
   "metadata": {},
   "source": [
    "### Taking mean to be 0 and standard deviation to be 1"
   ]
  },
  {
   "cell_type": "code",
   "execution_count": 8,
   "id": "7c6035c3",
   "metadata": {},
   "outputs": [],
   "source": [
    "mean = 0\n",
    "sigma = SD = 1"
   ]
  },
  {
   "cell_type": "code",
   "execution_count": 9,
   "id": "08e58fce",
   "metadata": {},
   "outputs": [
    {
     "data": {
      "image/png": "[encoded data removed]",
      "text/plain": [
       "<Figure size 432x288 with 1 Axes>"
      ]
     },
     "metadata": {
      "needs_background": "light"
     },
     "output_type": "display_data"
    }
   ],
   "source": [
    "variance = np.square(SD)\n",
    "x = np.linspace(mean - 3*sigma, mean + 3*sigma, 1000)\n",
    "\n",
    "f = np.exp(-np.square(x-mean)/2*variance)/(np.sqrt(2*np.pi*variance))\n",
    "\n",
    "plt.plot(x,f)\n",
    "plt.ylabel('gaussian distribution')\n",
    "plt.show()"
   ]
  },
  {
   "cell_type": "markdown",
   "id": "3c3dbea3",
   "metadata": {},
   "source": [
    "### Calculation of 1 $\\sigma$, 2 $\\sigma$ and 3 $\\sigma$"
   ]
  },
  {
   "cell_type": "code",
   "execution_count": 10,
   "id": "01a3d892",
   "metadata": {},
   "outputs": [
    {
     "name": "stdout",
     "output_type": "stream",
     "text": [
      "one sigma = [-1, 1]\n",
      "two sigma = [-2, 2]\n",
      "three sigma = [-3, 3]\n"
     ]
    }
   ],
   "source": [
    "one_sigma=[mean - 1 * SD, mean + 1 * SD]\n",
    "two_sigma=[mean - 2 * SD, mean + 2 * SD]\n",
    "three_sigma=[mean - 3 * SD, mean + 3 * SD]\n",
    "\n",
    "print(\"one sigma =\", one_sigma)\n",
    "print(\"two sigma =\", two_sigma)\n",
    "print(\"three sigma =\", three_sigma)"
   ]
  },
  {
   "cell_type": "markdown",
   "id": "18d479f6",
   "metadata": {},
   "source": [
    "### Creating the plot"
   ]
  },
  {
   "cell_type": "code",
   "execution_count": 11,
   "id": "a541d91d",
   "metadata": {},
   "outputs": [
    {
     "data": {
      "text/plain": [
       "(0.0, 0.45)"
      ]
     },
     "execution_count": 11,
     "metadata": {},
     "output_type": "execute_result"
    },
    {
     "data": {
      "image/png": "[encoded data removed]",
      "text/plain": [
       "<Figure size 648x360 with 1 Axes>"
      ]
     },
     "metadata": {
      "needs_background": "light"
     },
     "output_type": "display_data"
    }
   ],
   "source": [
    "plt.rcParams[\"figure.figsize\"] = (9,5)\n",
    "\n",
    "\n",
    "plt.fill_between(x=np.arange(three_sigma[0],two_sigma[0],0.01), \n",
    "                 y1= stats.norm.pdf(np.arange(three_sigma[0],two_sigma[0],0.01)) ,\n",
    "                 facecolor='red',\n",
    "                 alpha=0.95)\n",
    "\n",
    "\n",
    "plt.fill_between(x=np.arange(two_sigma[0],one_sigma[0],0.01), \n",
    "                 y1= stats.norm.pdf(np.arange(two_sigma[0],one_sigma[0],0.01)) ,\n",
    "                 facecolor='green',\n",
    "                 alpha=0.95)\n",
    "\n",
    "\n",
    "plt.fill_between(x=np.arange(one_sigma[0],one_sigma[1],0.01), \n",
    "                 y1= stats.norm.pdf(np.arange(one_sigma[0],one_sigma[1],0.01)) ,\n",
    "                 facecolor='blue',\n",
    "                 alpha=0.95)\n",
    "\n",
    "plt.fill_between(x=np.arange(one_sigma[1],two_sigma[1],0.01), \n",
    "                 y1= stats.norm.pdf(np.arange(one_sigma[1],two_sigma[1],0.01)) ,\n",
    "                 facecolor='green',\n",
    "                 alpha=0.95)\n",
    "\n",
    "plt.fill_between(x=np.arange(two_sigma[1],three_sigma[1],0.01), \n",
    "                 y1= stats.norm.pdf(np.arange(two_sigma[1],three_sigma[1],0.01)) ,\n",
    "                 facecolor='red',\n",
    "                 alpha=0.95)\n",
    "\n",
    "plt.xlabel('x')\n",
    "plt.ylabel('pdf(x)')\n",
    "plt.xlim(-4.5,4.5)\n",
    "plt.ylim(0,0.45)"
   ]
  },
  {
   "cell_type": "markdown",
   "id": "77c39809",
   "metadata": {},
   "source": [
    "### Area covered by 1 $\\sigma$, 2 $\\sigma$ and 3 $\\sigma$"
   ]
  },
  {
   "cell_type": "code",
   "execution_count": 12,
   "id": "109e8b9f",
   "metadata": {},
   "outputs": [
    {
     "name": "stdout",
     "output_type": "stream",
     "text": [
      "Percentage of values within one sigma = 68.26894921370858\n",
      "Percentage of values within two sigma = 95.44997361036415\n",
      "Percentage of values within three sigma = 99.73002039367398\n"
     ]
    }
   ],
   "source": [
    "one_sd = stats.norm.cdf(SD, mean, SD) - stats.norm.cdf(-SD, mean, SD)\n",
    "two_sd = stats.norm.cdf(2 * SD, mean, SD) - stats.norm.cdf(-2 * SD, mean, SD)\n",
    "three_sd = stats.norm.cdf(3 * SD, mean, SD) - stats.norm.cdf(-3 * SD, mean, SD)\n",
    "\n",
    "# printing the value of fractions within each band\n",
    "print(\"Percentage of values within one sigma =\", one_sd*100)\n",
    "print(\"Percentage of values within two sigma =\", two_sd*100)\n",
    "print(\"Percentage of values within three sigma =\", three_sd*100)"
   ]
  },
  {
   "cell_type": "markdown",
   "id": "d3a16353",
   "metadata": {},
   "source": [
    "# Example"
   ]
  },
  {
   "cell_type": "markdown",
   "id": "5b722fe2",
   "metadata": {},
   "source": [
    "### Generate the data and plot it as a normal distrubtion curve"
   ]
  },
  {
   "cell_type": "markdown",
   "id": "3ec42d83",
   "metadata": {},
   "source": [
    "\\begin{equation}\n",
    "f(x)=\\frac{1}{\\sigma \\sqrt{2 \\pi}} e^{-\\frac{1}{2}\\left(\\frac{x-\\mu}{\\sigma}\\right)^{2}}\n",
    "\\end{equation}"
   ]
  },
  {
   "cell_type": "code",
   "execution_count": 13,
   "id": "228efe5d",
   "metadata": {},
   "outputs": [
    {
     "data": {
      "image/png": "[encoded data removed]",
      "text/plain": [
       "<Figure size 648x360 with 1 Axes>"
      ]
     },
     "metadata": {
      "needs_background": "light"
     },
     "output_type": "display_data"
    }
   ],
   "source": [
    "## x-axis for the plot\n",
    "x_data = np.arange(-4, 4, 0.001)\n",
    "\n",
    "## y-axis as the gaussian\n",
    "y_data = stats.norm.pdf(x_data, 0, 1)\n",
    "\n",
    "## plot data\n",
    "plt.plot(x_data, y_data)\n",
    "plt.ylabel('gaussian distribution')\n",
    "plt.show()"
   ]
  },
  {
   "cell_type": "markdown",
   "id": "4ca042eb",
   "metadata": {},
   "source": [
    "### Mean for normal distribution curve"
   ]
  },
  {
   "cell_type": "code",
   "execution_count": 14,
   "id": "f81627c0",
   "metadata": {},
   "outputs": [
    {
     "data": {
      "text/plain": [
       "-0.0005000000004405365"
      ]
     },
     "execution_count": 14,
     "metadata": {},
     "output_type": "execute_result"
    }
   ],
   "source": [
    "mean=x_data.mean()\n",
    "mean"
   ]
  },
  {
   "cell_type": "markdown",
   "id": "2fce975e",
   "metadata": {},
   "source": [
    "### Standard deviation for normal distribution curve"
   ]
  },
  {
   "cell_type": "code",
   "execution_count": 15,
   "id": "14e76afb",
   "metadata": {},
   "outputs": [
    {
     "data": {
      "text/plain": [
       "2.3094010587160527"
      ]
     },
     "execution_count": 15,
     "metadata": {},
     "output_type": "execute_result"
    }
   ],
   "source": [
    "SD=x_data.std()\n",
    "SD"
   ]
  },
  {
   "cell_type": "markdown",
   "id": "e67204b0",
   "metadata": {},
   "source": [
    "### Calculation of 1 $\\sigma$, 2 $\\sigma$ and 3 $\\sigma$"
   ]
  },
  {
   "cell_type": "code",
   "execution_count": 16,
   "id": "f968f08b",
   "metadata": {},
   "outputs": [
    {
     "name": "stdout",
     "output_type": "stream",
     "text": [
      "one sigma = [-2.3099010587164934, 2.308901058715612]\n",
      "two sigma = [-4.619302117432546, 4.618302117431665]\n",
      "three sigma = [-6.928703176148598, 6.927703176147718]\n"
     ]
    }
   ],
   "source": [
    "one_sigma=[mean - 1 * SD, mean + 1 * SD]\n",
    "two_sigma=[mean - 2 * SD, mean + 2 * SD]\n",
    "three_sigma=[mean - 3 * SD, mean + 3 * SD]\n",
    "\n",
    "print(\"one sigma =\", one_sigma)\n",
    "print(\"two sigma =\", two_sigma)\n",
    "print(\"three sigma =\", three_sigma)"
   ]
  },
  {
   "cell_type": "markdown",
   "id": "dd0a3b0f",
   "metadata": {},
   "source": [
    "### Creating the plot"
   ]
  },
  {
   "cell_type": "code",
   "execution_count": 17,
   "id": "0bff602c",
   "metadata": {},
   "outputs": [
    {
     "data": {
      "text/plain": [
       "(0.0, 0.45)"
      ]
     },
     "execution_count": 17,
     "metadata": {},
     "output_type": "execute_result"
    },
    {
     "data": {
      "image/png": "[encoded data removed]",
      "text/plain": [
       "<Figure size 648x432 with 1 Axes>"
      ]
     },
     "metadata": {
      "needs_background": "light"
     },
     "output_type": "display_data"
    }
   ],
   "source": [
    "plt.rcParams[\"figure.figsize\"] = (9,6)\n",
    "\n",
    "\n",
    "plt.fill_between(x=np.arange(three_sigma[0],two_sigma[0],0.01), \n",
    "                 y1= stats.norm.pdf(np.arange(three_sigma[0],two_sigma[0],0.01)) ,\n",
    "                 facecolor='red',\n",
    "                 alpha=0.95)\n",
    "\n",
    "\n",
    "plt.fill_between(x=np.arange(two_sigma[0],one_sigma[0],0.01), \n",
    "                 y1= stats.norm.pdf(np.arange(two_sigma[0],one_sigma[0],0.01)) ,\n",
    "                 facecolor='green',\n",
    "                 alpha=0.95)\n",
    "\n",
    "\n",
    "plt.fill_between(x=np.arange(one_sigma[0],one_sigma[1],0.01), \n",
    "                 y1= stats.norm.pdf(np.arange(one_sigma[0],one_sigma[1],0.01)) ,\n",
    "                 facecolor='blue',\n",
    "                 alpha=0.95)\n",
    "\n",
    "plt.fill_between(x=np.arange(one_sigma[1],two_sigma[1],0.01), \n",
    "                 y1= stats.norm.pdf(np.arange(one_sigma[1],two_sigma[1],0.01)) ,\n",
    "                 facecolor='green',\n",
    "                 alpha=0.95)\n",
    "\n",
    "plt.fill_between(x=np.arange(two_sigma[1],three_sigma[1],0.01), \n",
    "                 y1= stats.norm.pdf(np.arange(two_sigma[1],three_sigma[1],0.01)) ,\n",
    "                 facecolor='red',\n",
    "                 alpha=0.95)\n",
    "\n",
    "\n",
    "plt.xlabel('x')\n",
    "plt.ylabel('pdf(x)')\n",
    "plt.xlim(-6,6)\n",
    "plt.ylim(0,0.45)\n"
   ]
  },
  {
   "cell_type": "markdown",
   "id": "2bb89d5b",
   "metadata": {},
   "source": [
    "### Plot between -3 $\\sigma$ and -2 $\\sigma$ "
   ]
  },
  {
   "cell_type": "code",
   "execution_count": 18,
   "id": "28e9bf94",
   "metadata": {},
   "outputs": [
    {
     "data": {
      "text/plain": [
       "<matplotlib.collections.PolyCollection at 0x183d06e73a0>"
      ]
     },
     "execution_count": 18,
     "metadata": {},
     "output_type": "execute_result"
    },
    {
     "data": {
      "image/png": "[encoded data removed]",
      "text/plain": [
       "<Figure size 648x432 with 1 Axes>"
      ]
     },
     "metadata": {
      "needs_background": "light"
     },
     "output_type": "display_data"
    }
   ],
   "source": [
    "plt.fill_between(x=np.arange(three_sigma[0],two_sigma[0],0.01), \n",
    "                 y1= stats.norm.pdf(np.arange(three_sigma[0],two_sigma[0],0.01)) ,\n",
    "                 facecolor='red',\n",
    "                 alpha=0.95)"
   ]
  },
  {
   "cell_type": "markdown",
   "id": "20aa6fd1",
   "metadata": {},
   "source": [
    "### Area covered by 1 $\\sigma$, 2 $\\sigma$ and 3 $\\sigma$"
   ]
  },
  {
   "cell_type": "code",
   "execution_count": 19,
   "id": "150095e4",
   "metadata": {},
   "outputs": [
    {
     "name": "stdout",
     "output_type": "stream",
     "text": [
      "Percentage of values within one sigma = 68.26894807947079\n",
      "Percentage of values within two sigma = 95.44997310419883\n",
      "Percentage of values within three sigma = 99.73002033135111\n"
     ]
    }
   ],
   "source": [
    "one_sd = stats.norm.cdf(SD, mean, SD) - stats.norm.cdf(-SD, mean, SD)\n",
    "two_sd = stats.norm.cdf(2 * SD, mean, SD) - stats.norm.cdf(-2 * SD, mean, SD)\n",
    "three_sd = stats.norm.cdf(3 * SD, mean, SD) - stats.norm.cdf(-3 * SD, mean, SD)\n",
    "\n",
    "# printing the value of fractions within each band\n",
    "print(\"Percentage of values within one sigma =\", one_sd*100)\n",
    "print(\"Percentage of values within two sigma =\", two_sd*100)\n",
    "print(\"Percentage of values within three sigma =\", three_sd*100)"
   ]
  }
 ],
 "metadata": {
  "kernelspec": {
   "display_name": "Python 3",
   "language": "python",
   "name": "python3"
  },
  "language_info": {
   "codemirror_mode": {
    "name": "ipython",
    "version": 3
   },
   "file_extension": ".py",
   "mimetype": "text/x-python",
   "name": "python",
   "nbconvert_exporter": "python",
   "pygments_lexer": "ipython3",
   "version": "3.8.8"
  }
 },
 "nbformat": 4,
 "nbformat_minor": 5
}
